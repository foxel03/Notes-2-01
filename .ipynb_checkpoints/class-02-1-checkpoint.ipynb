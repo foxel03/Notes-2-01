{
 "cells": [
  {
   "cell_type": "markdown",
   "id": "01e97ff6-f704-4823-bbfd-c145dae00844",
   "metadata": {},
   "source": [
    "DS 256 Data Science Programming, Fall 2024\n",
    "Prof Eatai Roth\n",
    "\n",
    "Class 1.1\n",
    "\n",
    "This class we'll be introducing new data types: lists and tuples.\n",
    "You can read more about lists and tuples in [WTOP Ch 6](https://jakevdp.github.io/WhirlwindTourOfPython/06-built-in-data-structures.html).\n",
    "\n"
   ]
  },
  {
   "cell_type": "markdown",
   "id": "44fee194-34fd-432b-9268-ef937c921d23",
   "metadata": {},
   "source": [
    "### ASIDE: downloading the textbook\n",
    "\n",
    "You can download (NOT clone) the entire textbook as interactive notebooks."
   ]
  },
  {
   "cell_type": "markdown",
   "id": "c839eaf5-0cf0-4027-b238-3588851f8ece",
   "metadata": {},
   "source": [
    "### ASIDE: how to export class notes to PDF\n",
    "\n",
    "If you'd like to keep a copy of class notes as PDF, you can export Jupyter notebooks using \n",
    "\n",
    "File > Save and Export Notebook as... > PDF\n",
    "\n",
    "If you get an error that you are missing XeLaTeX, you can install XeLatex on your machine with either:\n",
    " - [MikTeX for Windows, MacOs, Linux](https://miktex.org/download)\n",
    "\n",
    "If you are using MacOS, open terminal and type.\n",
    "\n",
    "```export PATH=/Library/TeX/texbin:$PATH```\n",
    "\n",
    "Then quite Jupyter Lab (File > Shut Down) and relaunch.\n",
    "\n",
    "You may also need to [install pandoc](https://pandoc.org/installing.html)."
   ]
  },
  {
   "cell_type": "markdown",
   "id": "0a0b6ac0-cbf3-4e85-bc69-6352da3f7253",
   "metadata": {},
   "source": [
    "## Lists\n",
    "\n",
    "A *list* is an ordered grouping of data.\n",
    "\n",
    "Lists in Python are enclosed in brackets with items separated by commas. Lists can contain any object type and types don't need to be consistent within the list."
   ]
  },
  {
   "cell_type": "code",
   "execution_count": 2,
   "id": "82be8d3e-ebd2-49a4-9b49-5c02c02f2120",
   "metadata": {},
   "outputs": [],
   "source": []
  },
  {
   "cell_type": "markdown",
   "id": "920fe9c2-e79e-4b09-bc57-770ac10b84f0",
   "metadata": {},
   "source": [
    "### Adding to lists\n",
    "\n",
    "You can add an item to the end of a list with ```.append(item)```\n",
    "\n",
    "You can concatenate two lists with +."
   ]
  },
  {
   "cell_type": "code",
   "execution_count": 8,
   "id": "a7fd31d4-857f-4bc2-86bc-4d364052c5af",
   "metadata": {},
   "outputs": [
    {
     "ename": "AttributeError",
     "evalue": "'str' object has no attribute 'append'",
     "output_type": "error",
     "traceback": [
      "\u001b[0;31m---------------------------------------------------------------------------\u001b[0m",
      "\u001b[0;31mAttributeError\u001b[0m                            Traceback (most recent call last)",
      "Cell \u001b[0;32mIn[8], line 1\u001b[0m\n\u001b[0;32m----> 1\u001b[0m \u001b[38;5;124m'\u001b[39m\u001b[38;5;124mhello\u001b[39m\u001b[38;5;124m'\u001b[39m\u001b[38;5;241m.\u001b[39mappend(\u001b[38;5;124m'\u001b[39m\u001b[38;5;124mh\u001b[39m\u001b[38;5;124m'\u001b[39m)\n",
      "\u001b[0;31mAttributeError\u001b[0m: 'str' object has no attribute 'append'"
     ]
    }
   ],
   "source": []
  },
  {
   "cell_type": "markdown",
   "id": "7e066354-5ec0-4db7-85a1-e41100a4ead7",
   "metadata": {},
   "source": [
    "### Length of lists\n",
    "\n",
    "You can get the length of a list with the function ```len(list)```"
   ]
  },
  {
   "cell_type": "code",
   "execution_count": 9,
   "id": "4ea7c52a-5ca1-46a2-b664-ae86d3fe8606",
   "metadata": {},
   "outputs": [
    {
     "data": {
      "text/plain": [
       "5"
      ]
     },
     "execution_count": 9,
     "metadata": {},
     "output_type": "execute_result"
    }
   ],
   "source": []
  },
  {
   "cell_type": "markdown",
   "id": "fcf007d9-7d24-4600-aab5-010b27ff3790",
   "metadata": {},
   "source": [
    "### Indexing of lists\n",
    "\n",
    "The locations in a list are indexed by number, starting at 0. That is, a list starts with a zero-th entry.\n",
    "\n",
    "Alternatively, you can index lists from the end backwards starting with -1 (the last item in a list).\n",
    "\n",
    "You extract a value from a list using brackets. For example, ```myList[5]``` would return the 6th entry of the list.\n",
    "\n",
    "And you can use indexing to assign new values to items in the list."
   ]
  },
  {
   "cell_type": "code",
   "execution_count": null,
   "id": "243ddafd-a9ce-4a57-aa9f-3d46e9f80e72",
   "metadata": {},
   "outputs": [],
   "source": []
  },
  {
   "cell_type": "markdown",
   "id": "34d0a707-71d7-4b06-a67e-4c19d75e5fce",
   "metadata": {},
   "source": [
    "### Slicing lists\n",
    "\n",
    "A slice is an extraction of a sub-list from a list.\n",
    "\n",
    "You slice a list as:\n",
    "\n",
    "```\n",
    "myList[startIdx:stopIdx:stepSize]\n",
    "```\n",
    "Notes:\n",
    "\n",
    " - the list will go up to but not include the stopIdx.\n",
    " - any of the parameters can be skipped.\n",
    "\n",
    "Try some of these:\n",
    " - myList[0:5:2]\n",
    " - myList[0:5]\n",
    " - myList[4::]\n",
    " - myList[::3]\n",
    " - myList[-3:]\n"
   ]
  },
  {
   "cell_type": "code",
   "execution_count": null,
   "id": "8ff7b70b-81fb-4a58-9b8b-9679d9ec8f2f",
   "metadata": {},
   "outputs": [],
   "source": []
  },
  {
   "cell_type": "markdown",
   "id": "ccb08874-9c9b-4ec8-8193-abc4b4f4186e",
   "metadata": {},
   "source": [
    "### Finding an element in a list\n",
    "\n",
    "If a list contains an element, you can find where that element is using ```.index(searchItem)```"
   ]
  },
  {
   "cell_type": "code",
   "execution_count": null,
   "id": "0c2a7bce-1fe8-4c87-a9e0-3ff760aaea49",
   "metadata": {},
   "outputs": [],
   "source": []
  },
  {
   "cell_type": "markdown",
   "id": "f54c3daa-c954-4583-b116-3baf35614b1a",
   "metadata": {},
   "source": [
    "## Tuples\n",
    "\n",
    "Tuples are like lists in that they group any number of any kind of items. A tuple is enclosed in parentheses.\n",
    "\n",
    "```\n",
    "myTuple = (1,2,'hello')\n",
    "```\n",
    "HOWEVER, tuples are immutable. That just means that once they're created, you cannot change them."
   ]
  },
  {
   "cell_type": "code",
   "execution_count": null,
   "id": "aac0b0a3-8b1a-4394-8031-42f320cd0dae",
   "metadata": {},
   "outputs": [],
   "source": []
  },
  {
   "cell_type": "markdown",
   "id": "9066c769-11de-4706-b4ff-e1135374316f",
   "metadata": {},
   "source": [
    "## Logical operators\n",
    "\n",
    "If you make a comparison of two values, the result is a Boolean. Some comparisons you might make are:\n",
    "\n",
    " - \\> - greater than\n",
    " - < - less than\n",
    " - \\>= greater than or equal to\n",
    " - == equal to (note the difference between = and ==)\n",
    " - != not equal to\n",
    "\n",
    "You can also combine boolean statements with *logical operators*:\n",
    "\n",
    " - ```and``` - A and B is ```True``` only if both are ```True```\n",
    " - ```or``` - A or B is ```True``` if at least one of them is ```True```\n",
    " - not - not A is the opposite of whatever A is."
   ]
  },
  {
   "cell_type": "code",
   "execution_count": 13,
   "id": "675f8adb-a3f9-4735-8515-1da8ff4eda13",
   "metadata": {},
   "outputs": [
    {
     "data": {
      "text/plain": [
       "True"
      ]
     },
     "execution_count": 13,
     "metadata": {},
     "output_type": "execute_result"
    }
   ],
   "source": []
  },
  {
   "cell_type": "markdown",
   "id": "d05c375c-67ea-4e08-8858-7f410d451f75",
   "metadata": {},
   "source": [
    "You can also consider booleans to have values of 0 (for False) or 1 (for True).\n",
    "\n",
    "Try some arithmatic with True and False."
   ]
  },
  {
   "cell_type": "code",
   "execution_count": null,
   "id": "5c130b31-708f-48a0-9e8c-090659ac50c5",
   "metadata": {},
   "outputs": [],
   "source": []
  }
 ],
 "metadata": {
  "kernelspec": {
   "display_name": "Python 3 (ipykernel)",
   "language": "python",
   "name": "python3"
  },
  "language_info": {
   "codemirror_mode": {
    "name": "ipython",
    "version": 3
   },
   "file_extension": ".py",
   "mimetype": "text/x-python",
   "name": "python",
   "nbconvert_exporter": "python",
   "pygments_lexer": "ipython3",
   "version": "3.12.4"
  }
 },
 "nbformat": 4,
 "nbformat_minor": 5
}
